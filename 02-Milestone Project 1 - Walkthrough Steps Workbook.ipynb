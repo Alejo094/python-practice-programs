{
 "cells": [
  {
   "cell_type": "markdown",
   "metadata": {},
   "source": [
    "# Milestone Project 1: Walkthrough Steps Workbook\n",
    "\n",
    "Below is a set of steps for you to follow to try to create the Tic Tac Toe Milestone Project game!"
   ]
  },
  {
   "cell_type": "markdown",
   "metadata": {},
   "source": [
    "#### Some suggested tools before you get started:\n",
    "To take input from a user:\n",
    "\n",
    "    player1 = input(\"Please pick a marker 'X' or 'O'\")\n",
    "    \n",
    "Note that input() takes in a string. If you need an integer value, use\n",
    "\n",
    "    position = int(input('Please enter a number'))\n",
    "    \n",
    "<br>To clear the screen between moves:\n",
    "\n",
    "    from IPython.display import clear_output\n",
    "    clear_output()\n",
    "    \n",
    "Note that clear_output() will only work in jupyter. To clear the screen in other IDEs, consider:\n",
    "\n",
    "    print('\\n'*100)\n",
    "    \n",
    "This scrolls the previous board up out of view. Now on to the program!"
   ]
  },
  {
   "cell_type": "markdown",
   "metadata": {},
   "source": [
    "**Step 1: Write a function that can print out a board. Set up your board as a list, where each index 1-9 corresponds with a number on a number pad, so you get a 3 by 3 board representation.**"
   ]
  },
  {
   "cell_type": "code",
   "execution_count": null,
   "metadata": {},
   "outputs": [],
   "source": [
    "from IPython.display import clear_output\n",
    "\n",
    "def display_board(board):\n",
    "    clear_output()\n",
    "    \n",
    "    print('  |   |  ')\n",
    "    print(board[7]+\" | \"+board[8]+\" | \"+board[9])\n",
    "    print(\"  | \"+\"  |  \") \n",
    "    print(\"---------\")\n",
    "    print(\"  | \"+\"  |  \") \n",
    "    print(board[4]+\" | \"+board[5]+\" | \"+board[6])   \n",
    "    print(\"  | \"+\"  |  \") \n",
    "    print(\"---------\")\n",
    "    print(\"  | \"+\"  |  \") \n",
    "    print(board[1]+\" | \"+board[2]+\" | \"+board[3])\n",
    "    print(\"  | \"+\"  |  \") \n",
    "    \n",
    "    "
   ]
  },
  {
   "cell_type": "markdown",
   "metadata": {},
   "source": [
    "**TEST Step 1:** run your function on a test version of the board list, and make adjustments as necessary"
   ]
  },
  {
   "cell_type": "code",
   "execution_count": null,
   "metadata": {},
   "outputs": [],
   "source": [
    "initial_board = ['#',\" \",' ',' ',' ',' ',' ',' ',' ',' ']\n",
    "display_board(initial_board)"
   ]
  },
  {
   "cell_type": "markdown",
   "metadata": {},
   "source": [
    "**Step 2: Write a function that can take in a player input and assign their marker as 'X' or 'O'. Think about using *while* loops to continually ask until you get a correct answer.**"
   ]
  },
  {
   "cell_type": "code",
   "execution_count": null,
   "metadata": {},
   "outputs": [],
   "source": [
    "def player_input():\n",
    "    player_choice=\"\"\n",
    "    while player_choice!=\"X\" and player_choice!= \"O\":\n",
    "        player_choice=input(f\"Player {y} do you want to be X or O ?\")\n",
    "    \n",
    "    player1=player_choice\n",
    "    if player1==\"X\":\n",
    "        player2=\"O\"\n",
    "    else:\n",
    "        player2=\"X\"\n",
    "    return (player1, player2)\n",
    "  \n",
    "    "
   ]
  },
  {
   "cell_type": "markdown",
   "metadata": {},
   "source": [
    "**TEST Step 2:** run the function to make sure it returns the desired output"
   ]
  },
  {
   "cell_type": "code",
   "execution_count": null,
   "metadata": {},
   "outputs": [],
   "source": [
    "player1_choice,player2_choice=player_input()"
   ]
  },
  {
   "cell_type": "code",
   "execution_count": null,
   "metadata": {},
   "outputs": [],
   "source": [
    "player2_choice"
   ]
  },
  {
   "cell_type": "markdown",
   "metadata": {},
   "source": [
    "**Step 3: Write a function that takes in the board list object, a marker ('X' or 'O'), and a desired position (number 1-9) and assigns it to the board.**"
   ]
  },
  {
   "cell_type": "code",
   "execution_count": null,
   "metadata": {},
   "outputs": [],
   "source": [
    " def place_marker(board, marker, position):\n",
    "        board[position]=marker"
   ]
  },
  {
   "cell_type": "code",
   "execution_count": null,
   "metadata": {
    "scrolled": true
   },
   "outputs": [],
   "source": [
    "test_board"
   ]
  },
  {
   "cell_type": "markdown",
   "metadata": {},
   "source": [
    "**TEST Step 3:** run the place marker function using test parameters and display the modified board"
   ]
  },
  {
   "cell_type": "code",
   "execution_count": null,
   "metadata": {},
   "outputs": [],
   "source": [
    "place_marker(initial_board,'$',8)\n",
    "display_board(initial_board)"
   ]
  },
  {
   "cell_type": "markdown",
   "metadata": {},
   "source": [
    "**Step 4: Write a function that takes in a board and a mark (X or O) and then checks to see if that mark has won. **"
   ]
  },
  {
   "cell_type": "code",
   "execution_count": null,
   "metadata": {},
   "outputs": [],
   "source": [
    "def win_check(board, mark):\n",
    "    \n",
    "    return ((board[1]==board[2]==board[3]==mark) or\n",
    "    (board[4]==board[5]==board[6]==mark) or\n",
    "    (board[7]==board[8]==board[9]==mark) or\n",
    "    \n",
    "    (board[1]==board[4]==board[7]==mark) or\n",
    "    (board[2]==board[5]==board[8]==mark) or\n",
    "    (board[3]==board[6]==board[9]==mark) or\n",
    "    \n",
    "    (board[3]==board[5]==board[7]==mark) or\n",
    "    (board[1]==board[5]==board[9]==mark)) \n",
    "\n",
    "    \n",
    "    \n",
    "    \n",
    "    "
   ]
  },
  {
   "cell_type": "markdown",
   "metadata": {},
   "source": [
    "**TEST Step 4:** run the win_check function against our test_board - it should return True"
   ]
  },
  {
   "cell_type": "code",
   "execution_count": null,
   "metadata": {},
   "outputs": [],
   "source": [
    "display_board(initial_board)\n",
    "win_check(initial_board,'O') or win_check(initial_board,'X')\n"
   ]
  },
  {
   "cell_type": "markdown",
   "metadata": {},
   "source": [
    "**Step 5: Write a function that uses the random module to randomly decide which player goes first. You may want to lookup random.randint() Return a string of which player went first.**"
   ]
  },
  {
   "cell_type": "code",
   "execution_count": null,
   "metadata": {},
   "outputs": [],
   "source": [
    "import random\n",
    "\n",
    "def choose_first():\n",
    "    \n",
    "    flip=random.randint(0,1)\n",
    "    \n",
    "    if flip==0:\n",
    "        print(\"Player_1 you are going first!\")\n",
    "        y=1\n",
    "    else:\n",
    "        print(\"Player_2 you are going first!\")\n",
    "        y=2\n",
    "    \n",
    "    \n",
    "    \n",
    "    "
   ]
  },
  {
   "cell_type": "code",
   "execution_count": null,
   "metadata": {},
   "outputs": [],
   "source": [
    "import random\n",
    "flip=random.randint(0,1)\n",
    "if flip==0:\n",
    "    print(\"Player_1 you are going first!\")\n",
    "else:\n",
    "    print(\"Player_2 you are going first!\")\n",
    "    \n",
    "\n"
   ]
  },
  {
   "cell_type": "code",
   "execution_count": null,
   "metadata": {},
   "outputs": [],
   "source": [
    "choose_first()"
   ]
  },
  {
   "cell_type": "markdown",
   "metadata": {},
   "source": [
    "**Step 6: Write a function that returns a boolean indicating whether a space on the board is freely available.**"
   ]
  },
  {
   "cell_type": "code",
   "execution_count": null,
   "metadata": {},
   "outputs": [],
   "source": [
    "def space_check(board, position):\n",
    "    if board[1]==\"O\"or board[1]==\"X\" :\n",
    "        return False\n",
    "    else:\n",
    "        return True\n",
    "\n",
    "    #este no!\n",
    "    "
   ]
  },
  {
   "cell_type": "code",
   "execution_count": null,
   "metadata": {},
   "outputs": [],
   "source": [
    "def space_check(initial_board, position):\n",
    "    \n",
    "    return initial_board[position]==\" \""
   ]
  },
  {
   "cell_type": "code",
   "execution_count": null,
   "metadata": {},
   "outputs": [],
   "source": [
    "space_check(initial_board,8)"
   ]
  },
  {
   "cell_type": "markdown",
   "metadata": {},
   "source": [
    "**Step 7: Write a function that checks if the board is full and returns a boolean value. True if full, False otherwise.**"
   ]
  },
  {
   "cell_type": "code",
   "execution_count": null,
   "metadata": {},
   "outputs": [],
   "source": [
    "def full_board_check(board):\n",
    "     \n",
    "    for i in range(1,10):\n",
    "        if space_check(board,i):\n",
    "            return False\n",
    "\n",
    "    return True"
   ]
  },
  {
   "cell_type": "code",
   "execution_count": null,
   "metadata": {},
   "outputs": [],
   "source": [
    "full_board_check(initial_board)\n",
    "display_board(initial_board)"
   ]
  },
  {
   "cell_type": "markdown",
   "metadata": {},
   "source": [
    "**Step 8: Write a function that asks for a player's next position (as a number 1-9) and then uses the function from step 6 to check if it's a free position. If it is, then return the position for later use.**"
   ]
  },
  {
   "cell_type": "code",
   "execution_count": null,
   "metadata": {},
   "outputs": [],
   "source": [
    "def player_choice(board):\n",
    "    \n",
    "    position=0\n",
    "    \n",
    "    while position not in [1,2,3,4,5,6,7,8,9] or not space_check(board,position):\n",
    "        position=int(input(\"Choose a position:(1-9)\"))\n",
    "    \n",
    "    return position"
   ]
  },
  {
   "cell_type": "code",
   "execution_count": null,
   "metadata": {},
   "outputs": [],
   "source": [
    "player_choice(initial_board)"
   ]
  },
  {
   "cell_type": "markdown",
   "metadata": {},
   "source": [
    "**Step 9: Write a function that asks the player if they want to play again and returns a boolean True if they do want to play again.**"
   ]
  },
  {
   "cell_type": "code",
   "execution_count": null,
   "metadata": {},
   "outputs": [],
   "source": []
  },
  {
   "cell_type": "code",
   "execution_count": null,
   "metadata": {},
   "outputs": [],
   "source": [
    "replay()"
   ]
  },
  {
   "cell_type": "markdown",
   "metadata": {
    "collapsed": true
   },
   "source": [
    "**Step 10: Here comes the hard part! Use while loops and the functions you've made to run the game!**"
   ]
  },
  {
   "cell_type": "markdown",
   "metadata": {},
   "source": [
    "# from IPython.display import clear_output\n",
    "\n",
    "####def display_board(board):\n",
    "    clear_output()\n",
    "    \n",
    "    print('  |   |  ')\n",
    "    print(board[7]+\" | \"+board[8]+\" | \"+board[9])\n",
    "    print(\"  | \"+\"  |  \") \n",
    "    print(\"---------\")\n",
    "    print(\"  | \"+\"  |  \") \n",
    "    print(board[4]+\" | \"+board[5]+\" | \"+board[6])   \n",
    "    print(\"  | \"+\"  |  \") \n",
    "    print(\"---------\")\n",
    "    print(\"  | \"+\"  |  \") \n",
    "    print(board[1]+\" | \"+board[2]+\" | \"+board[3])\n",
    "    print(\"  | \"+\"  |  \") \n",
    "    \n",
    "\n",
    "def space_check(initial_board, position):\n",
    "    \n",
    "    return initial_board[position]==\" \"\n",
    "\n",
    "def place_marker(board, marker, position):\n",
    "        board[position]=marker\n",
    "\n",
    "def win_check(board, mark):\n",
    "    \n",
    "    return ((board[1]==board[2]==board[3]==mark) or\n",
    "    (board[4]==board[5]==board[6]==mark) or\n",
    "    (board[7]==board[8]==board[9]==mark) or\n",
    "    \n",
    "    (board[1]==board[4]==board[7]==mark) or\n",
    "    (board[2]==board[5]==board[8]==mark) or\n",
    "    (board[3]==board[6]==board[9]==mark) or\n",
    "    \n",
    "    (board[3]==board[5]==board[7]==mark) or\n",
    "    (board[1]==board[5]==board[9]==mark)) \n",
    "\n",
    "        \n",
    "\n",
    "display_board(initial_board)\n",
    "print('Welcome to Tic Tac Toe!')\n",
    "start_game=input(\"Are you ready to start the game?\")\n",
    "clear_output()\n",
    "display_board(initial_board)\n",
    "##if start_game.lower()==\"yes\":\n",
    "    import random\n",
    "    flip=random.randint(0,1)\n",
    "    if flip==0:\n",
    "        print(\"Player_1 you are going first!\")\n",
    "        y=1\n",
    "    else:\n",
    "        print(\"Player_2 you are going first!\")\n",
    "        y=2\n",
    "    #player input\n",
    "    player_choice=\"\"\n",
    "    while player_choice!=\"X\" and player_choice!= \"O\":\n",
    "        player_choice=input(f\"Player {y} do you want to be X or O ?\")\n",
    "    \n",
    "    player1=player_choice\n",
    "    if player1==\"X\":\n",
    "        player2=\"O\"\n",
    "    else:\n",
    "        player2=\"X\"\n",
    "    \n",
    "    #player_choice()\n",
    "    position=0\n",
    "    \n",
    "    while position not in [1,2,3,4,5,6,7,8,9] or not space_check(initial_board,position):\n",
    "        position=int(input(\"Choose a position:(1-9)\"))\n",
    "\n",
    "    clear_output()\n",
    "    place_marker(initial_board,player1,position)\n",
    "    display_board(initial_board)\n",
    "    \n",
    "    if y==1:\n",
    "        print(\"Player_2 now is your turn!\") \n",
    "        z=2\n",
    "    else:\n",
    "        print(\"Player_1 now is your turn!\") \n",
    "        z=1\n",
    "    \n",
    "    \n",
    "    while win_check(initial_board,'O')==False and win_check(initial_board,'X')==False:\n",
    "        \n",
    "        #player_choice()\n",
    "        position=0\n",
    "    \n",
    "        while position not in [1,2,3,4,5,6,7,8,9] or not space_check(initial_board,position):\n",
    "            position=int(input(\"Choose a position:(1-9)\"))\n",
    "        \n",
    "        place_marker(initial_board,player2,position)\n",
    "        display_board(initial_board)\n",
    "    \n",
    "        if y==1:\n",
    "            print(\"Player_1 now is your turn!\") \n",
    "        else:\n",
    "            print(\"Player_2 now is your turn!\") \n",
    "        \n",
    "        if win_check(initial_board,'O')==True:\n",
    "            print(f\"End of the game! Player {z} wins!\")\n",
    "            break\n",
    "        elif win_check(initial_board,'X')==True:\n",
    "            print(f\"End of the game! Player {z} wins!\")  \n",
    "            break\n",
    " \n",
    "        #player_choice()\n",
    "        position=0\n",
    "    \n",
    "        while position not in [1,2,3,4,5,6,7,8,9] or not space_check(initial_board,position):\n",
    "            position=int(input(\"Choose a position:(1-9)\"))\n",
    "        \n",
    "        place_marker(initial_board,player1,position)\n",
    "        display_board(initial_board)\n",
    "    \n",
    "        if y==1:\n",
    "            print(\"Player_2 now is your turn!\") \n",
    "        else:\n",
    "            print(\"Player_1 now is your turn!\") \n",
    "    \n",
    "        if win_check(initial_board,'O')==True:\n",
    "            print(f\"End of the game! Player {y} wins!\")\n",
    "            break\n",
    "        elif win_check(initial_board,'X')==True:\n",
    "            print(f\"End of the game! Player {y} wins!\")  \n",
    "            break\n",
    "        \n",
    "        \n",
    "    if win_check(initial_board,'O')==True or win_check(initial_board,'X')==True:\n",
    "        \n",
    "        replay_choice=input(\"Do you want to play again? Yes or No\")\n",
    "        if replay_choice.lower()==\"yes\":\n",
    "            \n",
    "            initial_board = ['#',\" \",' ',' ',' ',' ',' ',' ',' ',' ']\n",
    "            display_board(initial_board)\n",
    "            \n",
    "        else:\n",
    "            print(\"End of Game! Thank you for playing :)\")\n",
    "    \n",
    "        \n",
    "    \n",
    "        \n",
    "        \n",
    "        \n",
    "        #if win_check(initial_board,'O')==True:\n",
    "           # print(f\"End of the game! Player {y} wins!\")\n",
    "    \n",
    "#clear_output()\n",
    "    \n",
    "    \n",
    "#while True:\n",
    "    # Set the game up here\n",
    "    #pass\n",
    "\n",
    "    #while game_on:\n",
    "        #Player 1 Turn\n",
    "        \n",
    "        \n",
    "        # Player2's turn.\n",
    "            \n",
    "            #pass\n",
    "\n",
    "    #if not replay():\n",
    "        #break\n"
   ]
  },
  {
   "cell_type": "code",
   "execution_count": null,
   "metadata": {},
   "outputs": [],
   "source": [
    "\n",
    "initial_board = ['#',\" \",' ',' ',' ',' ',' ',' ',' ',' ']\n",
    "display_board(initial_board)"
   ]
  },
  {
   "cell_type": "code",
   "execution_count": null,
   "metadata": {},
   "outputs": [],
   "source": [
    "display_board(initial_board)\n",
    "while win_check(initial_board,'O')==False and win_check(initial_board,'X')==False:\n",
    "    print(\"hellow\")\n",
    "\n",
    "print(\"no\")\n",
    "if win_check(initial_board,'O')==True:\n",
    "    print(\"yes\")\n",
    "elif win_check(initial_board,'X')==True:\n",
    "    print(\"222\")"
   ]
  },
  {
   "cell_type": "markdown",
   "metadata": {
    "collapsed": true
   },
   "source": [
    "## Good Job!"
   ]
  },
  {
   "cell_type": "code",
   "execution_count": null,
   "metadata": {},
   "outputs": [],
   "source": [
    "win_check(initial_board,'O')\n"
   ]
  },
  {
   "cell_type": "code",
   "execution_count": 13,
   "metadata": {},
   "outputs": [
    {
     "name": "stdout",
     "output_type": "stream",
     "text": [
      "End of Game! Thank you for playing :)\n"
     ]
    }
   ],
   "source": [
    "from IPython.display import clear_output\n",
    "\n",
    "def display_board(board):\n",
    "    clear_output()\n",
    "    \n",
    "    print('  |   |  ')\n",
    "    print(board[7]+\" | \"+board[8]+\" | \"+board[9])\n",
    "    print(\"  | \"+\"  |  \") \n",
    "    print(\"---------\")\n",
    "    print(\"  | \"+\"  |  \") \n",
    "    print(board[4]+\" | \"+board[5]+\" | \"+board[6])   \n",
    "    print(\"  | \"+\"  |  \") \n",
    "    print(\"---------\")\n",
    "    print(\"  | \"+\"  |  \") \n",
    "    print(board[1]+\" | \"+board[2]+\" | \"+board[3])\n",
    "    print(\"  | \"+\"  |  \") \n",
    "\n",
    "initial_board = ['#',\" \",' ',' ',' ',' ',' ',' ',' ',' ']\n",
    "\n",
    "def space_check(initial_board, position):\n",
    "    \n",
    "    return initial_board[position]==\" \"\n",
    "\n",
    "def place_marker(board, marker, position):\n",
    "    board[position]=marker\n",
    "    \n",
    "def win_check(board, mark):\n",
    "    \n",
    "    return ((board[1]==board[2]==board[3]==mark) or\n",
    "    (board[4]==board[5]==board[6]==mark) or\n",
    "    (board[7]==board[8]==board[9]==mark) or\n",
    "    \n",
    "    (board[1]==board[4]==board[7]==mark) or\n",
    "    (board[2]==board[5]==board[8]==mark) or\n",
    "    (board[3]==board[6]==board[9]==mark) or\n",
    "    \n",
    "    (board[3]==board[5]==board[7]==mark) or\n",
    "    (board[1]==board[5]==board[9]==mark)) \n",
    "\n",
    "    \n",
    "def full_board_check(board):\n",
    "     \n",
    "    for i in range(1,10):\n",
    "        if space_check(board,i):\n",
    "            return False\n",
    "\n",
    "    return True\n",
    "\n",
    "def replay():\n",
    "    \n",
    "    replay_choice=input(\"Do you want to play again? Yes or No\")\n",
    "    if replay_choice.lower()==\"yes\":\n",
    "        return True\n",
    "    else:\n",
    "        return False\n",
    "    \n",
    "display_board(initial_board)\n",
    "print('Welcome to Tic Tac Toe!')\n",
    "start_game=input(\"Are you ready to start the game?\")\n",
    "clear_output()\n",
    "display_board(initial_board)\n",
    "\n",
    "\n",
    "def game ():\n",
    "    \n",
    "    replay_choice =\"\"\n",
    "    \n",
    "    if start_game.lower()==\"yes\" or replay_choice.lower()==\"yes\": \n",
    "        clear_output()\n",
    "        initial_board = ['#',\" \",' ',' ',' ',' ',' ',' ',' ',' ']\n",
    "        display_board(initial_board)\n",
    "        import random\n",
    "        flip=random.randint(0,1)\n",
    "        if flip==0:\n",
    "            print(\"Player_1 you are going first!\")\n",
    "            y=1\n",
    "        else:\n",
    "            print(\"Player_2 you are going first!\")\n",
    "            y=2\n",
    "    \n",
    "    #player input\n",
    "        player_choice=\"\"\n",
    "        while player_choice!=\"X\" and player_choice!= \"O\":\n",
    "            player_choice=input(f\"Player {y} do you want to be X or O ?\")\n",
    "     \n",
    "        player1=player_choice\n",
    "        if player1==\"X\":\n",
    "            player2=\"O\"\n",
    "        else:\n",
    "            player2=\"X\"\n",
    "    \n",
    "    #player_choice()\n",
    "        position=0\n",
    "    \n",
    "        while position not in [1,2,3,4,5,6,7,8,9] or not space_check(initial_board,position):\n",
    "            position=int(input(\"Choose a position:(1-9)\"))\n",
    "\n",
    "        clear_output()\n",
    "        place_marker(initial_board,player1,position)\n",
    "        display_board(initial_board)\n",
    "    \n",
    "        if y==1:\n",
    "            print(\"Player_2 now is your turn!\") \n",
    "            z=2\n",
    "        else:\n",
    "            print(\"Player_1 now is your turn!\") \n",
    "            z=1\n",
    "            \n",
    "    \n",
    "        while win_check(initial_board,'O')==False and win_check(initial_board,'X')==False:  \n",
    "                       \n",
    "                        \n",
    "        #player_choice()\n",
    "            position=0\n",
    "    \n",
    "            while position not in [1,2,3,4,5,6,7,8,9] or not space_check(initial_board,position):\n",
    "                position=int(input(\"Choose a position:(1-9)\"))\n",
    "        \n",
    "            place_marker(initial_board,player2,position)\n",
    "            display_board(initial_board)\n",
    "    \n",
    "            if y==1:\n",
    "                print(\"Player_1 now is your turn!\") \n",
    "            else:\n",
    "                print(\"Player_2 now is your turn!\") \n",
    "        \n",
    "            if win_check(initial_board,'O')==True:\n",
    "                print(f\"End of the game! Player {z} wins!\")\n",
    "                break\n",
    "            elif win_check(initial_board,'X')==True:\n",
    "                print(f\"End of the game! Player {z} wins!\")  \n",
    "                break\n",
    "            \n",
    "            if full_board_check(initial_board)==True:\n",
    "                clear_output()\n",
    "                replay_choice1=input(\"Tie game! Want to play again to see who wins?\")\n",
    "                if replay_choice1.lower()==\"yes\":\n",
    "                    clear_output()\n",
    "                    game ()\n",
    "                else:\n",
    "                    clear_output()\n",
    "                    print(\"End of Game! Thank you for playing :)\")\n",
    "                    break\n",
    "                break\n",
    "\n",
    "        #player_choice()\n",
    "            position=0\n",
    "    \n",
    "            while position not in [1,2,3,4,5,6,7,8,9] or not space_check(initial_board,position):\n",
    "                position=int(input(\"Choose a position:(1-9)\"))\n",
    "        \n",
    "            place_marker(initial_board,player1,position)\n",
    "            display_board(initial_board)\n",
    "    \n",
    "            if y==1:\n",
    "                print(\"Player_2 now is your turn!\") \n",
    "            else:\n",
    "                print(\"Player_1 now is your turn!\") \n",
    "    \n",
    "            if win_check(initial_board,'O')==True:\n",
    "                print(f\"End of the game! Player {y} wins!\")\n",
    "                break\n",
    "            elif win_check(initial_board,'X')==True:\n",
    "                print(f\"End of the game! Player {y} wins!\")  \n",
    "                break\n",
    "            \n",
    "            if full_board_check(initial_board)==True:\n",
    "                clear_output()\n",
    "                replay_choice1=input(\"Tie game! Want to play again to see who wins?\")\n",
    "                if replay_choice1.lower()==\"yes\":\n",
    "                    clear_output()\n",
    "                    game ()\n",
    "                else:\n",
    "                    clear_output()\n",
    "                    print(\"End of Game! Thank you for playing :)\")\n",
    "                    break\n",
    "                break  \n",
    "        \n",
    "        if win_check(initial_board,'O')==True or win_check(initial_board,'X')==True:\n",
    "        \n",
    "            replay_choice=input(\"Do you want to play again? Yes or No\")\n",
    "            if replay_choice.lower()==\"yes\":\n",
    "                print(\"Allright\")\n",
    "                game () \n",
    "            else:\n",
    "                clear_output()\n",
    "    \n",
    "                print(\"End of Game! Thank you for playing :)\")\n",
    "        \n",
    "        \n",
    "    else:\n",
    "        print(\"End of Game! Thank you for playing :)\")\n",
    "\n",
    "game ()  "
   ]
  },
  {
   "cell_type": "code",
   "execution_count": 37,
   "metadata": {},
   "outputs": [
    {
     "ename": "NameError",
     "evalue": "name 'x' is not defined",
     "output_type": "error",
     "traceback": [
      "\u001b[0;31m---------------------------------------------------------------------------\u001b[0m",
      "\u001b[0;31mNameError\u001b[0m                                 Traceback (most recent call last)",
      "\u001b[0;32m<ipython-input-37-6fcf9dfbd479>\u001b[0m in \u001b[0;36m<module>\u001b[0;34m\u001b[0m\n\u001b[0;32m----> 1\u001b[0;31m \u001b[0mx\u001b[0m\u001b[0;34m\u001b[0m\u001b[0;34m\u001b[0m\u001b[0m\n\u001b[0m",
      "\u001b[0;31mNameError\u001b[0m: name 'x' is not defined"
     ]
    }
   ],
   "source": [
    "x"
   ]
  },
  {
   "cell_type": "code",
   "execution_count": null,
   "metadata": {},
   "outputs": [],
   "source": [
    "%debug"
   ]
  },
  {
   "cell_type": "code",
   "execution_count": null,
   "metadata": {},
   "outputs": [],
   "source": []
  }
 ],
 "metadata": {
  "kernelspec": {
   "display_name": "Python 3",
   "language": "python",
   "name": "python3"
  },
  "language_info": {
   "codemirror_mode": {
    "name": "ipython",
    "version": 3
   },
   "file_extension": ".py",
   "mimetype": "text/x-python",
   "name": "python",
   "nbconvert_exporter": "python",
   "pygments_lexer": "ipython3",
   "version": "3.7.1"
  }
 },
 "nbformat": 4,
 "nbformat_minor": 1
}
